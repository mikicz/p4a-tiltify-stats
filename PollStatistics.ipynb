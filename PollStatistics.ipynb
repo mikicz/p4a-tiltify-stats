{
 "cells": [
  {
   "cell_type": "code",
   "execution_count": null,
   "id": "495c9959",
   "metadata": {},
   "outputs": [],
   "source": [
    "import requests\n",
    "import os\n",
    "\n",
    "from datetime import datetime\n",
    "import pandas as pd\n",
    "\n",
    "import pygsheets\n",
    "from pygsheets.datarange import DataRange\n",
    "from string import ascii_uppercase"
   ]
  },
  {
   "cell_type": "code",
   "execution_count": null,
   "id": "fc8b5125",
   "metadata": {},
   "outputs": [],
   "source": [
    "api_token = os.environ.get(\"TILTIFY_TOKEN\")\n",
    "campaign_id = 155357"
   ]
  },
  {
   "cell_type": "code",
   "execution_count": null,
   "id": "1c09e052",
   "metadata": {},
   "outputs": [],
   "source": [
    "polls = {}\n",
    "\n",
    "response = requests.get(\n",
    "    f\"https://tiltify.com/api/v3/campaigns/{campaign_id}/polls\",\n",
    "    headers={\"Authorization\": \"Bearer {}\".format(api_token)},\n",
    ")\n",
    "\n",
    "for row in response.json()[\"data\"]:\n",
    "    polls[row[\"id\"]] = row"
   ]
  },
  {
   "cell_type": "code",
   "execution_count": null,
   "id": "3f8689e3",
   "metadata": {},
   "outputs": [],
   "source": [
    "finished_refreshing = datetime.now()"
   ]
  },
  {
   "cell_type": "code",
   "execution_count": null,
   "id": "0b9f0cee",
   "metadata": {},
   "outputs": [],
   "source": [
    "polls"
   ]
  },
  {
   "cell_type": "code",
   "execution_count": null,
   "id": "b5ab5d99",
   "metadata": {},
   "outputs": [],
   "source": [
    "polls_rows = []\n",
    "\n",
    "for poll in polls.values():\n",
    "    for option in poll[\"options\"]:\n",
    "        polls_rows.append(\n",
    "            {\n",
    "                \"Question\": poll[\"name\"],\n",
    "                \"Created\": datetime.utcfromtimestamp(poll[\"createdAt\"] / 1000),\n",
    "                \"Finished\": datetime.utcfromtimestamp(poll[\"updatedAt\"] / 1000),\n",
    "                \"Total Raised\": sum(x[\"totalAmountRaised\"] for x in poll[\"options\"]),\n",
    "                \"Option\": option[\"name\"],\n",
    "                \"Raised\": option[\"totalAmountRaised\"],\n",
    "            }\n",
    "        )"
   ]
  },
  {
   "cell_type": "code",
   "execution_count": null,
   "id": "0650746a",
   "metadata": {},
   "outputs": [],
   "source": [
    "polls_raised = pd.DataFrame(polls_rows).sort_values(\"Finished\").reset_index(drop=True)\n",
    "polls_raised[\"Finished\"] = polls_raised[\"Finished\"].astype(\"str\")\n",
    "polls_raised[\"Created\"] = polls_raised[\"Created\"].astype(\"str\")\n",
    "polls_raised"
   ]
  },
  {
   "cell_type": "code",
   "execution_count": null,
   "id": "0e8cdaf3",
   "metadata": {},
   "outputs": [],
   "source": [
    "polls_raised = polls_raised[polls_raised[\"Created\"] != polls_raised[\"Finished\"]]\n",
    "polls_raised = polls_raised[polls_raised[\"Total Raised\"] != 0]\n",
    "polls_raised"
   ]
  },
  {
   "cell_type": "code",
   "execution_count": null,
   "id": "fae537ec",
   "metadata": {},
   "outputs": [],
   "source": [
    "def get_sheet(document, sheet_name):\n",
    "    return document.worksheets(\"title\", sheet_name)[0]"
   ]
  },
  {
   "cell_type": "code",
   "execution_count": null,
   "id": "9f02ba6e",
   "metadata": {},
   "outputs": [],
   "source": [
    "gc = pygsheets.authorize()"
   ]
  },
  {
   "cell_type": "code",
   "execution_count": null,
   "id": "a9e54277",
   "metadata": {},
   "outputs": [],
   "source": [
    "document_url = os.environ.get(\n",
    "    \"DOCUMENT_URL\",\n",
    "    \"https://docs.google.com/spreadsheets/d/1q2i2dycsXRrYHofHXNCL9q1XtTxmTQYo2bUyxvStHmI/edit#gid=0\",\n",
    ")"
   ]
  },
  {
   "cell_type": "code",
   "execution_count": null,
   "id": "5d9f6a12",
   "metadata": {},
   "outputs": [],
   "source": [
    "document = gc.open_by_url(document_url)\n",
    "sheet = get_sheet(document, \"Polls\")"
   ]
  },
  {
   "cell_type": "code",
   "execution_count": null,
   "id": "fa460219",
   "metadata": {},
   "outputs": [],
   "source": [
    "sheet.clear(fields=\"*\")\n",
    "for i in range(1, 11):\n",
    "    sheet.adjust_column_width(start=i, end=i, pixel_size=100)\n",
    "rng = sheet.get_values(\"A1\", \"I2000\", returnas=\"range\")\n",
    "rng.merge_cells(\"NONE\")"
   ]
  },
  {
   "cell_type": "code",
   "execution_count": null,
   "id": "d99f4704",
   "metadata": {},
   "outputs": [],
   "source": [
    "sheet.update_values(\"A1\", [list(polls_raised.columns)])\n",
    "values = polls_raised.values.tolist()\n",
    "values = [[None if pd.isna(x) else x for x in row] for row in values]\n",
    "sheet.update_values(\"A2\", values)"
   ]
  },
  {
   "cell_type": "code",
   "execution_count": null,
   "id": "2612f3bc",
   "metadata": {},
   "outputs": [],
   "source": [
    "position = len(polls_raised.columns) + 1\n",
    "sheet.update_value(f\"{ascii_uppercase[position]}1\", \"Last updated\")\n",
    "sheet.adjust_column_width(start=position + 1, end=position + 1, pixel_size=100)\n",
    "sheet.update_value(f\"{ascii_uppercase[position + 1]}1\", datetime.now().isoformat())\n",
    "sheet.adjust_column_width(start=position + 2, end=position + 2, pixel_size=150)"
   ]
  },
  {
   "cell_type": "code",
   "execution_count": null,
   "id": "13a9d7a7",
   "metadata": {},
   "outputs": [],
   "source": [
    "def set_number_formatting(sheet, column, format_type, pattern):\n",
    "    model_cell = pygsheets.Cell(\"A1\")\n",
    "\n",
    "    model_cell.set_number_format(format_type=format_type, pattern=pattern)\n",
    "\n",
    "    pygsheets.DataRange(column, column, worksheet=sheet).apply_format(model_cell)"
   ]
  },
  {
   "cell_type": "code",
   "execution_count": null,
   "id": "2535042e",
   "metadata": {},
   "outputs": [],
   "source": [
    "formatting = {\n",
    "    \"Total Raised\": (pygsheets.FormatType.NUMBER, \"0.00\"),\n",
    "    \"Raised\": (pygsheets.FormatType.NUMBER, \"0.00\"),\n",
    "}"
   ]
  },
  {
   "cell_type": "code",
   "execution_count": null,
   "id": "93dad65c",
   "metadata": {},
   "outputs": [],
   "source": [
    "for column, (fmt, pattern) in formatting.items():\n",
    "    set_number_formatting(\n",
    "        sheet,\n",
    "        ascii_uppercase[list(polls_raised.columns).index(column)],\n",
    "        fmt,\n",
    "        pattern,\n",
    "    )"
   ]
  },
  {
   "cell_type": "code",
   "execution_count": null,
   "id": "d096711b",
   "metadata": {},
   "outputs": [],
   "source": [
    "header_range = DataRange(\n",
    "    start=\"A1\",\n",
    "    end=f\"{ascii_uppercase[len(polls_raised.columns) - 1]}1\",\n",
    "    worksheet=sheet,\n",
    ")\n",
    "header_range.update_borders(bottom=True, style=\"SOLID\")"
   ]
  },
  {
   "cell_type": "code",
   "execution_count": null,
   "id": "574c246c",
   "metadata": {},
   "outputs": [],
   "source": [
    "for column_name in polls_raised.columns:\n",
    "    column = ascii_uppercase[list(polls_raised.columns).index(column_name)]\n",
    "    header_cell = sheet.cell(f\"{column}1\").set_text_format(\"bold\", True)\n",
    "    if column_name in formatting.keys():\n",
    "        header_cell.set_horizontal_alignment(\n",
    "            pygsheets.custom_types.HorizontalAlignment.RIGHT\n",
    "        )\n",
    "    header_cell.update()"
   ]
  },
  {
   "cell_type": "code",
   "execution_count": null,
   "id": "6ccb4ddd",
   "metadata": {},
   "outputs": [],
   "source": [
    "widths = {\n",
    "    \"Question\": 500,\n",
    "    \"Created\": 140,\n",
    "    \"Finished\": 140,\n",
    "    \"Option\": 400,\n",
    "}"
   ]
  },
  {
   "cell_type": "code",
   "execution_count": null,
   "id": "02ee8fce",
   "metadata": {},
   "outputs": [],
   "source": [
    "for column, width in widths.items():\n",
    "    sheet.adjust_column_width(\n",
    "        start=list(polls_raised.columns).index(column) + 1,\n",
    "        end=list(polls_raised.columns).index(column) + 1,\n",
    "        pixel_size=width,\n",
    "    )"
   ]
  },
  {
   "cell_type": "code",
   "execution_count": null,
   "id": "7cda935d",
   "metadata": {},
   "outputs": [],
   "source": [
    "for question in polls_raised[\"Question\"].unique():\n",
    "    range_df = polls_raised[polls_raised[\"Question\"] == question]\n",
    "    index_start, index_end = range_df.index.min() + 2, range_df.index.max() + 2\n",
    "    print(question, index_start, index_end)\n",
    "\n",
    "    for x in [\"A\", \"B\", \"C\", \"D\"]:\n",
    "        rng = sheet.get_values(f\"{x}{index_start}\", f\"{x}{index_end}\", returnas=\"range\")\n",
    "        rng.merge_cells()\n",
    "        cell = sheet.get_values(\n",
    "            f\"{x}{index_start}\", f\"{x}{index_end}\", returnas=\"cell\"\n",
    "        )[0][0]\n",
    "\n",
    "        cell.set_vertical_alignment(pygsheets.custom_types.VerticalAlignment.MIDDLE)"
   ]
  },
  {
   "cell_type": "code",
   "execution_count": null,
   "id": "ecc19ef4",
   "metadata": {},
   "outputs": [],
   "source": [
    "for column_name in polls_raised.columns:\n",
    "    column = ascii_uppercase[list(polls_raised.columns).index(column_name)]\n",
    "    if column_name in {\"Created\", \"Finished\"}:\n",
    "        rng = sheet.get_values(column, column, returnas=\"cells\")\n",
    "        for row in rng:\n",
    "            if row[0].value == \"\":\n",
    "                continue\n",
    "\n",
    "            row[0].set_horizontal_alignment(\n",
    "                pygsheets.custom_types.HorizontalAlignment.RIGHT\n",
    "            )"
   ]
  }
 ],
 "metadata": {
  "kernelspec": {
   "display_name": "Python 3 (ipykernel)",
   "language": "python",
   "name": "python3"
  },
  "language_info": {
   "codemirror_mode": {
    "name": "ipython",
    "version": 3
   },
   "file_extension": ".py",
   "mimetype": "text/x-python",
   "name": "python",
   "nbconvert_exporter": "python",
   "pygments_lexer": "ipython3",
   "version": "3.10.2"
  }
 },
 "nbformat": 4,
 "nbformat_minor": 5
}
