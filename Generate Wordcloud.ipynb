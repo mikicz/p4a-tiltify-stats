{
 "cells": [
  {
   "cell_type": "code",
   "execution_count": 1,
   "id": "worst-advance",
   "metadata": {},
   "outputs": [],
   "source": [
    "from os import path\n",
    "from PIL import Image\n",
    "import numpy as np\n",
    "import matplotlib.pyplot as plt\n",
    "import os\n",
    "import re\n",
    "from pathlib import Path\n",
    "\n",
    "from wordcloud import WordCloud, STOPWORDS"
   ]
  },
  {
   "cell_type": "code",
   "execution_count": 2,
   "id": "eaf05060",
   "metadata": {},
   "outputs": [],
   "source": [
    "# https://stackoverflow.com/questions/33404752/removing-emojis-from-a-string-in-python\n",
    "def deEmojify(text):\n",
    "    emoj = re.compile(\n",
    "        \"[\"\n",
    "        \"\\U0001F600-\\U0001F64F\"  # emoticons\n",
    "        \"\\U0001F300-\\U0001F5FF\"  # symbols & pictographs\n",
    "        \"\\U0001F680-\\U0001F6FF\"  # transport & map symbols\n",
    "        \"\\U0001F1E0-\\U0001F1FF\"  # flags (iOS)\n",
    "        \"\\U00002500-\\U00002BEF\"  # chinese char\n",
    "        \"\\U00002702-\\U000027B0\"\n",
    "        \"\\U00002702-\\U000027B0\"\n",
    "        \"\\U000024C2-\\U0001F251\"\n",
    "        \"\\U0001f926-\\U0001f937\"\n",
    "        \"\\U00010000-\\U0010ffff\"\n",
    "        \"\\u2640-\\u2642\"\n",
    "        \"\\u2600-\\u2B55\"\n",
    "        \"\\u200d\"\n",
    "        \"\\u23cf\"\n",
    "        \"\\u23e9\"\n",
    "        \"\\u231a\"\n",
    "        \"\\ufe0f\"  # dingbats\n",
    "        \"\\u3030\"\n",
    "        \"]+\",\n",
    "        re.UNICODE,\n",
    "    )\n",
    "    return re.sub(emoj, \" \", text)"
   ]
  },
  {
   "cell_type": "code",
   "execution_count": 3,
   "id": "b0064a74",
   "metadata": {},
   "outputs": [],
   "source": [
    "text = Path(\"../p4a-portal/comments.txt\").read_text(encoding=\"utf-8\")\n",
    "len(text)"
   ]
  },
  {
   "cell_type": "code",
   "execution_count": 4,
   "id": "825640c8",
   "metadata": {},
   "outputs": [],
   "source": [
    "text = deEmojify(text)\n",
    "len(text)"
   ]
  },
  {
   "cell_type": "code",
   "execution_count": 5,
   "id": "93ae66bb",
   "metadata": {},
   "outputs": [],
   "source": [
    "text = \"\\n\".join([row.strip() for row in text.splitlines() if row.split()])\n",
    "len(text)"
   ]
  },
  {
   "cell_type": "code",
   "execution_count": 6,
   "id": "78705397",
   "metadata": {},
   "outputs": [],
   "source": [
    "text = text.replace(\"!\", \" \").replace(\"?\", \" \").replace(\".\", \" \")\n",
    "len(text)"
   ]
  },
  {
   "cell_type": "code",
   "execution_count": 7,
   "id": "aafa144a",
   "metadata": {},
   "outputs": [],
   "source": [
    "print(sorted(STOPWORDS))"
   ]
  },
  {
   "cell_type": "code",
   "execution_count": 8,
   "id": "b250b210",
   "metadata": {},
   "outputs": [],
   "source": [
    "stopwords = {\n",
    "    \"and\",\n",
    "    \"a\",\n",
    "    \"do\",\n",
    "    \"for\",\n",
    "    \"the\",\n",
    "    \"is\",\n",
    "    \"my\",\n",
    "    \"it\",\n",
    "    \"in\",\n",
    "    \"i\",\n",
    "    \"r\",\n",
    "    \"have\",\n",
    "    \"am\",\n",
    "    \"or\",\n",
    "}\n",
    "stopwords.update({x for x in STOPWORDS if x.startswith(\"i'\")})\n",
    "stopwords"
   ]
  },
  {
   "cell_type": "code",
   "execution_count": 9,
   "id": "1ee98c34",
   "metadata": {},
   "outputs": [],
   "source": [
    "wc = WordCloud(\n",
    "    background_color=\"white\",\n",
    "    max_words=2000,\n",
    "    stopwords=stopwords,\n",
    "    width=2000,\n",
    "    height=1000,\n",
    ")\n",
    "wc.generate(text)\n",
    "wc.to_file(\"all.png\")\n",
    "plt.imshow(wc, interpolation=\"bilinear\")\n",
    "plt.axis(\"off\")\n",
    "plt.show()"
   ]
  },
  {
   "cell_type": "code",
   "execution_count": 10,
   "id": "5477f96a",
   "metadata": {},
   "outputs": [],
   "source": [
    "def generate_cloud(map_file):\n",
    "    mask = np.array(Image.open(Path(map_file)))\n",
    "    wc = WordCloud(\n",
    "        background_color=\"white\", max_words=2000, mask=mask, stopwords=stopwords\n",
    "    )\n",
    "    wc.generate(text)\n",
    "    wc.to_file(map_file.replace(\".png\", \"-cloud.png\"))\n",
    "\n",
    "    plt.imshow(wc, interpolation=\"bilinear\")\n",
    "    plt.axis(\"off\")\n",
    "    plt.figure()\n",
    "    plt.imshow(mask, cmap=plt.cm.gray, interpolation=\"bilinear\")\n",
    "    plt.axis(\"off\")\n",
    "    plt.show()"
   ]
  },
  {
   "cell_type": "code",
   "execution_count": 11,
   "id": "575a76a9",
   "metadata": {},
   "outputs": [],
   "source": [
    "%time generate_cloud(\"map1.png\")"
   ]
  },
  {
   "cell_type": "code",
   "execution_count": 12,
   "id": "7633b41a",
   "metadata": {},
   "outputs": [],
   "source": [
    "%time generate_cloud(\"map2.png\")"
   ]
  },
  {
   "cell_type": "code",
   "execution_count": 13,
   "id": "3fab938e",
   "metadata": {},
   "outputs": [],
   "source": [
    "%time generate_cloud(\"map3.png\")"
   ]
  }
 ],
 "metadata": {
  "kernelspec": {
   "display_name": "Python 3 (ipykernel)",
   "language": "python",
   "name": "python3"
  },
  "language_info": {
   "codemirror_mode": {
    "name": "ipython",
    "version": 3
   },
   "file_extension": ".py",
   "mimetype": "text/x-python",
   "name": "python",
   "nbconvert_exporter": "python",
   "pygments_lexer": "ipython3",
   "version": "3.10.9"
  }
 },
 "nbformat": 4,
 "nbformat_minor": 5
}
