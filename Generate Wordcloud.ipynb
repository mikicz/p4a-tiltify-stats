{
 "cells": [
  {
   "cell_type": "code",
   "execution_count": null,
   "id": "worst-advance",
   "metadata": {},
   "outputs": [],
   "source": [
    "from os import path\n",
    "from PIL import Image\n",
    "import numpy as np\n",
    "import matplotlib.pyplot as plt\n",
    "import os\n",
    "import re\n",
    "from pathlib import Path\n",
    "\n",
    "from wordcloud import WordCloud, STOPWORDS"
   ]
  },
  {
   "cell_type": "code",
   "execution_count": null,
   "id": "eaf05060",
   "metadata": {},
   "outputs": [],
   "source": [
    "# https://stackoverflow.com/questions/33404752/removing-emojis-from-a-string-in-python\n",
    "def deEmojify(text):\n",
    "    regrex_pattern = re.compile(\n",
    "        pattern=\"[\"\n",
    "        \"\\U0001F600-\\U0001F64F\"  # emoticons\n",
    "        \"\\U0001F300-\\U0001F5FF\"  # symbols & pictographs\n",
    "        \"\\U0001F680-\\U0001F6FF\"  # transport & map symbols\n",
    "        \"\\U0001F1E0-\\U0001F1FF\"  # flags (iOS)\n",
    "        \"]+\",\n",
    "        flags=re.UNICODE,\n",
    "    )\n",
    "    return regrex_pattern.sub(r\"\", text)"
   ]
  },
  {
   "cell_type": "code",
   "execution_count": null,
   "id": "b0064a74",
   "metadata": {},
   "outputs": [],
   "source": [
    "text = Path(\"comments.txt\").read_text(encoding=\"utf-8\")\n",
    "len(text)"
   ]
  },
  {
   "cell_type": "code",
   "execution_count": null,
   "id": "825640c8",
   "metadata": {},
   "outputs": [],
   "source": [
    "text = deEmojify(text)\n",
    "len(text)"
   ]
  },
  {
   "cell_type": "code",
   "execution_count": null,
   "id": "78705397",
   "metadata": {},
   "outputs": [],
   "source": [
    "text = text.replace(\"!\", \" \").replace(\"?\", \" \").replace(\".\", \" \")\n",
    "len(text)"
   ]
  },
  {
   "cell_type": "code",
   "execution_count": null,
   "id": "aafa144a",
   "metadata": {},
   "outputs": [],
   "source": [
    "print(sorted(STOPWORDS))"
   ]
  },
  {
   "cell_type": "code",
   "execution_count": null,
   "id": "b250b210",
   "metadata": {},
   "outputs": [],
   "source": [
    "stopwords = {\n",
    "    \"and\",\n",
    "    \"a\",\n",
    "    \"do\",\n",
    "    \"for\",\n",
    "    \"the\",\n",
    "    \"is\",\n",
    "    \"my\",\n",
    "    \"it\",\n",
    "    \"in\",\n",
    "    \"i\",\n",
    "    \"r\",\n",
    "    \"have\",\n",
    "    \"am\",\n",
    "    \"or\",\n",
    "}\n",
    "stopwords.update({x for x in STOPWORDS if x.startswith(\"i'\")})\n",
    "stopwords"
   ]
  },
  {
   "cell_type": "code",
   "execution_count": null,
   "id": "5477f96a",
   "metadata": {},
   "outputs": [],
   "source": [
    "def generate_cloud(map_file):\n",
    "    mask = np.array(Image.open(Path(map_file)))\n",
    "    wc = WordCloud(\n",
    "        background_color=\"white\", max_words=2000, mask=mask, stopwords=stopwords\n",
    "    )\n",
    "    wc.generate(text)\n",
    "    wc.to_file(map_file.replace(\".png\", \"-cloud.png\"))\n",
    "\n",
    "    plt.imshow(wc, interpolation=\"bilinear\")\n",
    "    plt.axis(\"off\")\n",
    "    plt.figure()\n",
    "    plt.imshow(mask, cmap=plt.cm.gray, interpolation=\"bilinear\")\n",
    "    plt.axis(\"off\")\n",
    "    plt.show()"
   ]
  },
  {
   "cell_type": "code",
   "execution_count": null,
   "id": "575a76a9",
   "metadata": {},
   "outputs": [],
   "source": [
    "# %time generate_cloud(\"map1.png\")"
   ]
  },
  {
   "cell_type": "code",
   "execution_count": null,
   "id": "7633b41a",
   "metadata": {},
   "outputs": [],
   "source": [
    "# %time generate_cloud(\"map2.png\")"
   ]
  },
  {
   "cell_type": "code",
   "execution_count": null,
   "id": "3fab938e",
   "metadata": {},
   "outputs": [],
   "source": [
    "%time generate_cloud(\"map3.png\")"
   ]
  },
  {
   "cell_type": "code",
   "execution_count": null,
   "id": "28c398cc",
   "metadata": {},
   "outputs": [],
   "source": [
    "%time generate_cloud(\"map4.png\")"
   ]
  }
 ],
 "metadata": {
  "kernelspec": {
   "display_name": "Python 3 (ipykernel)",
   "language": "python",
   "name": "python3"
  },
  "language_info": {
   "codemirror_mode": {
    "name": "ipython",
    "version": 3
   },
   "file_extension": ".py",
   "mimetype": "text/x-python",
   "name": "python",
   "nbconvert_exporter": "python",
   "pygments_lexer": "ipython3",
   "version": "3.10.2"
  }
 },
 "nbformat": 4,
 "nbformat_minor": 5
}
