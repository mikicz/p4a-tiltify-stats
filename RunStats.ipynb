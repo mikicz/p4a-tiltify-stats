{
 "cells": [
  {
   "cell_type": "code",
   "execution_count": null,
   "id": "da598516",
   "metadata": {},
   "outputs": [],
   "source": [
    "import requests\n",
    "import os\n",
    "from decimal import Decimal\n",
    "\n",
    "import pandas as pd"
   ]
  },
  {
   "cell_type": "markdown",
   "id": "c9876271",
   "metadata": {},
   "source": [
    "# Calculate Stats"
   ]
  },
  {
   "cell_type": "code",
   "execution_count": null,
   "id": "fcde3085",
   "metadata": {},
   "outputs": [],
   "source": [
    "api_token = os.environ.get(\"TILTIFY_TOKEN\")\n",
    "campaign_id = 155357"
   ]
  },
  {
   "cell_type": "code",
   "execution_count": null,
   "id": "309c183b",
   "metadata": {},
   "outputs": [],
   "source": [
    "rewards_dict = {}\n",
    "\n",
    "url = f\"/api/v3/campaigns/{campaign_id}/rewards?count=100\"\n",
    "\n",
    "response = requests.get(\n",
    "    \"https://tiltify.com\" + url,\n",
    "    headers={\"Authorization\": \"Bearer {}\".format(api_token)},\n",
    ")\n",
    "response = response.json()\n",
    "\n",
    "for row in response[\"data\"]:\n",
    "    rewards_dict[row[\"id\"]] = row"
   ]
  },
  {
   "cell_type": "code",
   "execution_count": null,
   "id": "0d5d5514",
   "metadata": {},
   "outputs": [],
   "source": [
    "rewards_dict[132555]"
   ]
  },
  {
   "cell_type": "code",
   "execution_count": null,
   "id": "29919e9a",
   "metadata": {},
   "outputs": [],
   "source": [
    "donations_dict = {}\n",
    "\n",
    "url = f\"/api/v3/campaigns/{campaign_id}/donations?count=100\"\n",
    "\n",
    "while url:\n",
    "    print(url)\n",
    "    response = requests.get(\n",
    "        \"https://tiltify.com\" + url,\n",
    "        headers={\"Authorization\": \"Bearer {}\".format(api_token)},\n",
    "    )\n",
    "\n",
    "    response = response.json()\n",
    "\n",
    "    for row in response[\"data\"]:\n",
    "        donations_dict[row[\"id\"]] = row\n",
    "\n",
    "    url = response[\"links\"][\"prev\"]"
   ]
  },
  {
   "cell_type": "code",
   "execution_count": null,
   "id": "4ca91b4e",
   "metadata": {},
   "outputs": [],
   "source": [
    "donations = pd.DataFrame.from_records(list(donations_dict.values()))\n",
    "donations[\"rewardId\"] = donations[\"rewardId\"].astype(\"Int64\")\n",
    "donations[\"rewardName\"] = (\n",
    "    donations[\"rewardId\"]\n",
    "    .map(lambda x: None if pd.isna(x) else rewards_dict[x][\"name\"])\n",
    "    .astype(\"string\")\n",
    ")\n",
    "donations[\"rewardPrice\"] = (\n",
    "    donations[\"rewardId\"]\n",
    "    .map(lambda x: None if pd.isna(x) else rewards_dict[x][\"amount\"])\n",
    "    .astype(float)\n",
    ")\n",
    "donations"
   ]
  },
  {
   "cell_type": "code",
   "execution_count": null,
   "id": "2e671f85",
   "metadata": {},
   "outputs": [],
   "source": [
    "print(\"Total donations: \", len(donations))"
   ]
  },
  {
   "cell_type": "code",
   "execution_count": null,
   "id": "c3655cf9",
   "metadata": {},
   "outputs": [],
   "source": [
    "donations[\"is_anonymous\"] = donations[\"name\"] == \"Anonymous\"\n",
    "anonymous = donations.groupby(\"is_anonymous\").aggregate(\n",
    "    count=(\"is_anonymous\", \"count\"), sum=(\"amount\", \"sum\")\n",
    ")\n",
    "anonymous.reset_index(inplace=True)\n",
    "anonymous.rename(\n",
    "    columns={\"sum\": \"Raised\", \"count\": \"Count\", \"is_anonymous\": \"Who\"}, inplace=True\n",
    ")\n",
    "anonymous[\"Who\"] = anonymous[\"Who\"].map(lambda x: \"Anonymous\" if x else \"Other\")\n",
    "anonymous.sort_values(\"Who\", inplace=True)\n",
    "anonymous"
   ]
  },
  {
   "cell_type": "code",
   "execution_count": null,
   "id": "7a259601",
   "metadata": {},
   "outputs": [],
   "source": [
    "rewards_stats = donations.groupby(\"rewardId\", dropna=False).aggregate(\n",
    "    count=(\"id\", \"count\"), raised=(\"amount\", \"sum\")\n",
    ")\n",
    "rewards_stats[\"name\"] = rewards_stats.index.map(\n",
    "    lambda x: None if pd.isna(x) else rewards_dict[x][\"name\"]\n",
    ").astype(\"string\")\n",
    "rewards_stats[\"basePrice\"] = rewards_stats.index.map(\n",
    "    lambda x: None if pd.isna(x) else rewards_dict[x][\"amount\"]\n",
    ").astype(float)\n",
    "rewards_stats.reset_index(inplace=True, drop=False)\n",
    "rewards_stats[\"raisedOverPrice\"] = rewards_stats[\"raised\"] - (\n",
    "    rewards_stats[\"basePrice\"] * rewards_stats[\"count\"]\n",
    ")\n",
    "rewards_stats[\"raisedOfTotal\"] = round(\n",
    "    rewards_stats[\"raised\"] / rewards_stats[\"raised\"].sum(), 4\n",
    ")\n",
    "rewards_stats.sort_values(by=\"raisedOfTotal\", inplace=True, ascending=False)\n",
    "rewards_stats.reset_index(drop=True, inplace=True)\n",
    "rewards_stats.rename(\n",
    "    columns={\n",
    "        \"rewardId\": \"id\",\n",
    "    },\n",
    "    inplace=True,\n",
    ")\n",
    "rewards_stats = rewards_stats[\n",
    "    [\"id\", \"name\", \"basePrice\", \"count\", \"raised\", \"raisedOverPrice\", \"raisedOfTotal\"]\n",
    "]\n",
    "rewards_stats[\"id\"] = rewards_stats[\"id\"].astype(\"string\").fillna(\"\")\n",
    "rewards_stats[\"name\"] = rewards_stats[\"name\"].fillna(\"<No Reward>\")\n",
    "rewards_stats.rename(columns={\n",
    "    \"id\": \"id\",\n",
    "    \"name\": \"Name\",\n",
    "    \"basePrice\": \"Base Price\",\n",
    "    \"count\": \"Count\",\n",
    "    \"raised\": \"Raised\",\n",
    "    \"raisedOverPrice\": \"Raised Over Base\",\n",
    "    \"raisedOfTotal\": \"Percentage of Total\"\n",
    "}, inplace=True)\n",
    "rewards_stats"
   ]
  },
  {
   "cell_type": "code",
   "execution_count": null,
   "id": "642f35b8",
   "metadata": {},
   "outputs": [],
   "source": [
    "donations[\"decimals\"] = (\n",
    "    donations[\"amount\"]\n",
    "    .map(Decimal)\n",
    "    .map(lambda x: x.quantize(Decimal(\".01\")))\n",
    "    .map(lambda x: x % 1)\n",
    "    .astype(\"string\")\n",
    "    .str.split(\".\", expand=True)[1]\n",
    ")\n",
    "decimals = donations.groupby(\"decimals\").agg(count=(\"id\", \"count\")).reset_index().sort_values(\n",
    "    \"count\", ascending=False\n",
    ")\n",
    "decimals.rename(columns={\"decimals\": \"Value after decimal point\", \"count\": \"Count\"}, inplace=True)\n",
    "decimals"
   ]
  },
  {
   "cell_type": "markdown",
   "id": "bb8cf6e9",
   "metadata": {},
   "source": [
    "# Populate the Spreadsheet"
   ]
  },
  {
   "cell_type": "code",
   "execution_count": null,
   "id": "36876168",
   "metadata": {},
   "outputs": [],
   "source": [
    "import pygsheets\n",
    "from pygsheets.datarange import DataRange\n",
    "from datetime import datetime\n",
    "from string import ascii_uppercase"
   ]
  },
  {
   "cell_type": "code",
   "execution_count": null,
   "id": "ff4a6792",
   "metadata": {},
   "outputs": [],
   "source": [
    "def get_sheet(document, sheet_name):\n",
    "    return document.worksheets(\"title\", sheet_name)[0]"
   ]
  },
  {
   "cell_type": "code",
   "execution_count": null,
   "id": "bb045da1",
   "metadata": {},
   "outputs": [],
   "source": [
    "def set_number_formatting(sheet, column, format_type, pattern):\n",
    "    model_cell = pygsheets.Cell(\"A1\")\n",
    "\n",
    "    model_cell.set_number_format(format_type=format_type, pattern=pattern)\n",
    "\n",
    "    pygsheets.DataRange(column, column, worksheet=sheet).apply_format(model_cell)"
   ]
  },
  {
   "cell_type": "code",
   "execution_count": null,
   "id": "d27df2e7",
   "metadata": {},
   "outputs": [],
   "source": [
    "def populate_dataframe_to_sheet(document_id, sheet_name, df, formatting, widths):\n",
    "    document = gc.open_by_key(document_id)\n",
    "    sheet = get_sheet(document, sheet_name)\n",
    "    sheet.clear(fields=\"*\")\n",
    "\n",
    "    for i in range(1, 11):\n",
    "        sheet.adjust_column_width(start=i, end=i, pixel_size=100)\n",
    "\n",
    "\n",
    "    sheet.update_values(\"A1\", [list(df.columns)])\n",
    "    values = df.values.tolist()\n",
    "    values = [[None if pd.isna(x) else x for x in row] for row in values]\n",
    "    sheet.update_values(\"A2\", values)\n",
    "\n",
    "    position = len(df.columns) + 1\n",
    "    sheet.update_value(f\"{ascii_uppercase[position]}1\", \"Last updated\")\n",
    "    sheet.adjust_column_width(start=position + 1, end=position + 1, pixel_size=100)\n",
    "    sheet.update_value(f\"{ascii_uppercase[position + 1]}1\", datetime.now().isoformat())\n",
    "    sheet.adjust_column_width(start=position + 2, end=position + 2, pixel_size=150)\n",
    "\n",
    "    # set number format\n",
    "    for column, (fmt, pattern) in formatting.items():\n",
    "        set_number_formatting(\n",
    "            sheet,\n",
    "            ascii_uppercase[list(df.columns).index(column)],\n",
    "            fmt,\n",
    "            pattern,\n",
    "        )\n",
    "\n",
    "    # pretty header\n",
    "    header_range = DataRange(\n",
    "        start=\"A1\",\n",
    "        end=f\"{ascii_uppercase[len(df.columns) - 1]}1\",\n",
    "        worksheet=sheet,\n",
    "    )\n",
    "    header_range.update_borders(bottom=True, style=\"SOLID\")\n",
    "\n",
    "    for column_name in df.columns:\n",
    "        column = ascii_uppercase[list(df.columns).index(column_name)]\n",
    "        header_cell = sheet.cell(f\"{column}1\").set_text_format(\"bold\", True)\n",
    "        if column_name in formatting:\n",
    "            header_cell.set_horizontal_alignment(pygsheets.custom_types.HorizontalAlignment.RIGHT)\n",
    "        header_cell.update()\n",
    "\n",
    "    # sheet width\n",
    "    for column, width in widths.items():\n",
    "        sheet.adjust_column_width(\n",
    "            start=list(df.columns).index(column) + 1, end=list(df.columns).index(column) + 1, pixel_size=width\n",
    "        )"
   ]
  },
  {
   "cell_type": "code",
   "execution_count": null,
   "id": "b5687f4c",
   "metadata": {},
   "outputs": [],
   "source": [
    "if os.environ.get(\"GDRIVE_API_CREDENTIALS\"):\n",
    "    gc = pygsheets.authorize(service_account_env_var = 'GDRIVE_API_CREDENTIALS')\n",
    "else:\n",
    "    gc = pygsheets.authorize()"
   ]
  },
  {
   "cell_type": "code",
   "execution_count": null,
   "id": "1de1fbee",
   "metadata": {},
   "outputs": [],
   "source": [
    "document_id = os.environ.get(\"DOCUMENT_ID\", \"1q2i2dycsXRrYHofHXNCL9q1XtTxmTQYo2bUyxvStHmI\")"
   ]
  },
  {
   "cell_type": "code",
   "execution_count": null,
   "id": "2d65300f",
   "metadata": {},
   "outputs": [],
   "source": [
    "populate_dataframe_to_sheet(\n",
    "    document_id,\n",
    "    \"Anonymous Statistics\",\n",
    "    anonymous,\n",
    "    {\n",
    "        \"Count\": (pygsheets.FormatType.NUMBER, \"0\"),\n",
    "        \"Raised\": (pygsheets.FormatType.NUMBER, \"0.00\"),\n",
    "    },\n",
    "    {\"Who\": 150, \"Count\": 70, \"Raised\": 70},\n",
    ")"
   ]
  },
  {
   "cell_type": "code",
   "execution_count": null,
   "id": "d8059171",
   "metadata": {},
   "outputs": [],
   "source": [
    "populate_dataframe_to_sheet(\n",
    "    document_id,\n",
    "    \"Rewards Statistics\",\n",
    "    rewards_stats,\n",
    "    {\n",
    "        \"id\": (pygsheets.FormatType.NUMBER, \"0\"),\n",
    "        \"Count\": (pygsheets.FormatType.NUMBER, \"0\"),\n",
    "        \"Base Price\": (pygsheets.FormatType.NUMBER, \"0.00\"),\n",
    "        \"Raised\": (pygsheets.FormatType.NUMBER, \"0.00\"),\n",
    "        \"Raised Over Base\": (pygsheets.FormatType.NUMBER, \"0.00\"),\n",
    "        \"Percentage of Total\": (pygsheets.FormatType.PERCENT, \"0.00%\"),\n",
    "    },\n",
    "    {\n",
    "        \"id\": 70,\n",
    "        \"Name\": 350,\n",
    "        \"Raised Over Base\": 150,\n",
    "        \"Percentage of Total\": 150,\n",
    "    },\n",
    ")"
   ]
  },
  {
   "cell_type": "code",
   "execution_count": null,
   "id": "b96481b8",
   "metadata": {},
   "outputs": [],
   "source": [
    "populate_dataframe_to_sheet(\n",
    "    document_id,\n",
    "    \"Decimals Statistics\",\n",
    "    decimals,\n",
    "    {\n",
    "        \"Count\": (pygsheets.FormatType.NUMBER, \"0\"),\n",
    "        \"Value after decimal point\": (pygsheets.FormatType.NUMBER, \"00\"),\n",
    "    },\n",
    "    {\"Count\": 70, \"Value after decimal point\": 200},\n",
    ")\n"
   ]
  }
 ],
 "metadata": {
  "kernelspec": {
   "display_name": "Python 3 (ipykernel)",
   "language": "python",
   "name": "python3"
  },
  "language_info": {
   "codemirror_mode": {
    "name": "ipython",
    "version": 3
   },
   "file_extension": ".py",
   "mimetype": "text/x-python",
   "name": "python",
   "nbconvert_exporter": "python",
   "pygments_lexer": "ipython3",
   "version": "3.10.2"
  }
 },
 "nbformat": 4,
 "nbformat_minor": 5
}